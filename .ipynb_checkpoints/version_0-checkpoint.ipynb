{
 "cells": [
  {
   "cell_type": "code",
   "execution_count": 1,
   "id": "68d87ef5-571a-4c99-aad1-437756159e09",
   "metadata": {},
   "outputs": [],
   "source": [
    "def summa(a,b):\n",
    "    return a+b"
   ]
  },
  {
   "cell_type": "code",
   "execution_count": 5,
   "id": "f329f53c-307b-4d83-954c-37af17489f45",
   "metadata": {},
   "outputs": [
    {
     "data": {
      "text/plain": [
       "15"
      ]
     },
     "execution_count": 5,
     "metadata": {},
     "output_type": "execute_result"
    }
   ],
   "source": [
    "summa(10,5)"
   ]
  },
  {
   "cell_type": "code",
   "execution_count": 7,
   "id": "40954a16-77b2-4fa2-a03d-0744b786a71b",
   "metadata": {},
   "outputs": [],
   "source": [
    "lst = [0,1,2,3,4,5]"
   ]
  },
  {
   "cell_type": "code",
   "execution_count": 13,
   "id": "3842a13f-d508-4f99-877e-2e576c6317d9",
   "metadata": {},
   "outputs": [
    {
     "data": {
      "text/plain": [
       "[0, 2]"
      ]
     },
     "execution_count": 13,
     "metadata": {},
     "output_type": "execute_result"
    }
   ],
   "source": [
    "lst[0:4:2]"
   ]
  },
  {
   "cell_type": "code",
   "execution_count": 15,
   "id": "38963d83-0086-4d67-ac25-ccc72d4fbe68",
   "metadata": {},
   "outputs": [
    {
     "data": {
      "text/plain": [
       "[5, 4, 3, 2, 1, 0]"
      ]
     },
     "execution_count": 15,
     "metadata": {},
     "output_type": "execute_result"
    }
   ],
   "source": [
    "lst[::-1]"
   ]
  },
  {
   "cell_type": "code",
   "execution_count": 19,
   "id": "67c6ad19-27c9-42aa-8c11-c6d92913dea0",
   "metadata": {},
   "outputs": [
    {
     "data": {
      "text/plain": [
       "[4, 3, 2]"
      ]
     },
     "execution_count": 19,
     "metadata": {},
     "output_type": "execute_result"
    }
   ],
   "source": [
    "lst[-2:1:-1]"
   ]
  },
  {
   "cell_type": "markdown",
   "id": "5fe4eb98-79de-452f-bdae-a2f9edd68dbf",
   "metadata": {},
   "source": [
    "Вторая версия"
   ]
  },
  {
   "cell_type": "code",
   "execution_count": 2,
   "id": "a66cba13-507a-48f1-a3ea-7a31c3c8ff0f",
   "metadata": {},
   "outputs": [
    {
     "data": {
      "text/plain": [
       "2"
      ]
     },
     "execution_count": 2,
     "metadata": {},
     "output_type": "execute_result"
    }
   ],
   "source": [
    "1+1"
   ]
  },
  {
   "cell_type": "markdown",
   "id": "f896fb95-58e3-4a56-a5ba-72e5992b894d",
   "metadata": {},
   "source": [
    "Работа в тестовой ветке\n"
   ]
  },
  {
   "cell_type": "code",
   "execution_count": 7,
   "id": "11dc5f51-86bd-4d97-ae2f-c5cabcc658e4",
   "metadata": {},
   "outputs": [
    {
     "data": {
      "text/plain": [
       "4"
      ]
     },
     "execution_count": 7,
     "metadata": {},
     "output_type": "execute_result"
    }
   ],
   "source": [
    "2+2\n"
   ]
  },
  {
   "cell_type": "code",
   "execution_count": null,
   "id": "41ba8085-78ea-407b-aa1c-2d9064f15ff3",
   "metadata": {},
   "outputs": [],
   "source": []
  }
 ],
 "metadata": {
  "kernelspec": {
   "display_name": "Python [conda env:base] *",
   "language": "python",
   "name": "conda-base-py"
  },
  "language_info": {
   "codemirror_mode": {
    "name": "ipython",
    "version": 3
   },
   "file_extension": ".py",
   "mimetype": "text/x-python",
   "name": "python",
   "nbconvert_exporter": "python",
   "pygments_lexer": "ipython3",
   "version": "3.12.7"
  }
 },
 "nbformat": 4,
 "nbformat_minor": 5
}
